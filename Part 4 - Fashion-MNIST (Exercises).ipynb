{
 "cells": [
  {
   "cell_type": "markdown",
   "metadata": {
    "colab_type": "text",
    "id": "Yit90-5aEzBA"
   },
   "source": [
    "# Classifying Fashion-MNIST\n",
    "\n",
    "Now it's your turn to build and train a neural network. You'll be using the [Fashion-MNIST dataset](https://github.com/zalandoresearch/fashion-mnist), a drop-in replacement for the MNIST dataset. MNIST is actually quite trivial with neural networks where you can easily achieve better than 97% accuracy. Fashion-MNIST is a set of 28x28 greyscale images of clothes. It's more complex than MNIST, so it's a better representation of the actual performance of your network, and a better representation of datasets you'll use in the real world.\n",
    "\n",
    "<img src='assets/fashion-mnist-sprite.png' width=500px>\n",
    "\n",
    "In this notebook, you'll build your own neural network. For the most part, you could just copy and paste the code from Part 3, but you wouldn't be learning. It's important for you to write the code yourself and get it to work. Feel free to consult the previous notebooks though as you work through this.\n",
    "\n",
    "First off, let's load the dataset through torchvision."
   ]
  },
  {
   "cell_type": "code",
   "execution_count": 1,
   "metadata": {
    "colab": {},
    "colab_type": "code",
    "id": "N9OG4sgZE68F"
   },
   "outputs": [],
   "source": [
    "# # http://pytorch.org/\n",
    "# from os.path import exists\n",
    "# from wheel.pep425tags import get_abbr_impl, get_impl_ver, get_abi_tag\n",
    "# platform = '{}{}-{}'.format(get_abbr_impl(), get_impl_ver(), get_abi_tag())\n",
    "# cuda_output = !ldconfig -p|grep cudart.so|sed -e 's/.*\\.\\([0-9]*\\)\\.\\([0-9]*\\)$/cu\\1\\2/'\n",
    "# accelerator = cuda_output[0] if exists('/dev/nvidia0') else 'cpu'\n",
    "\n",
    "# !pip install -q http://download.pytorch.org/whl/{accelerator}/torch-0.4.1-{platform}-linux_x86_64.whl torchvision\n",
    "# import torch"
   ]
  },
  {
   "cell_type": "code",
   "execution_count": 2,
   "metadata": {
    "colab": {},
    "colab_type": "code",
    "id": "Vzup4mFbEzBE"
   },
   "outputs": [],
   "source": [
    "import torch\n",
    "import torch.nn as nn\n",
    "from torchvision import datasets, transforms\n",
    "import helper\n",
    "\n",
    "# Define a transform to normalize the data\n",
    "transform = transforms.Compose([transforms.ToTensor(),\n",
    "                                transforms.Normalize((0.5, 0.5, 0.5), (0.5, 0.5, 0.5))])\n",
    "# Download and load the training data\n",
    "trainset = datasets.FashionMNIST('~/.pytorch/F_MNIST_data/', download=True, train=True, transform=transform)\n",
    "trainloader = torch.utils.data.DataLoader(trainset, batch_size=64, shuffle=True)\n",
    "\n",
    "# Download and load the test data\n",
    "testset = datasets.FashionMNIST('~/.pytorch/F_MNIST_data/', download=True, train=False, transform=transform)\n",
    "testloader = torch.utils.data.DataLoader(testset, batch_size=64, shuffle=True)"
   ]
  },
  {
   "cell_type": "markdown",
   "metadata": {
    "colab_type": "text",
    "id": "IzqVKRb5EzBd"
   },
   "source": [
    "Here we can see one of the images."
   ]
  },
  {
   "cell_type": "code",
   "execution_count": 3,
   "metadata": {
    "colab": {},
    "colab_type": "code",
    "id": "FNF8LMTXEzBe"
   },
   "outputs": [
    {
     "data": {
      "image/png": "[encoded data removed]",
      "text/plain": [
       "<Figure size 432x288 with 1 Axes>"
      ]
     },
     "metadata": {
      "needs_background": "light"
     },
     "output_type": "display_data"
    }
   ],
   "source": [
    "image, label = next(iter(trainloader))\n",
    "helper.imshow(image[0,:]);"
   ]
  },
  {
   "cell_type": "markdown",
   "metadata": {
    "colab_type": "text",
    "id": "kTcEOwQtEzBo"
   },
   "source": [
    "## Building the network\n",
    "\n",
    "Here you should define your network. As with MNIST, each image is 28x28 which is a total of 784 pixels, and there are 10 classes. You should include at least one hidden layer. We suggest you use ReLU activations for the layers and to return the logits or log-softmax from the forward pass. It's up to you how many layers you add and the size of those layers."
   ]
  },
  {
   "cell_type": "code",
   "execution_count": 31,
   "metadata": {
    "colab": {},
    "colab_type": "code",
    "id": "DhPbB6KGEzBp"
   },
   "outputs": [],
   "source": [
    "# TODO: Define your network architecture here\n",
    "class Model(nn.Module):\n",
    "  \n",
    "  def __init__(self):\n",
    "    super(Model, self).__init__()\n",
    "    self.h1 = nn.Linear(784, 256)\n",
    "    self.h2 = nn.Linear(256, 64)\n",
    "    self.output = nn.Linear(64, 10)\n",
    "    \n",
    "    # Activation Functions\n",
    "    self.relu = nn.ReLU()\n",
    "    self.logSMax = nn.LogSoftmax(dim=1) # Sliced by columns\n",
    "    \n",
    "  def forward(self, x):\n",
    "    x = x.view(x.shape[0], -1)\n",
    "    \n",
    "    x = self.h1(x)\n",
    "    x = self.relu(x)\n",
    "    x = self.h2(x)\n",
    "    x = self.relu(x)\n",
    "    x = self.output(x)\n",
    "    x = self.logSMax(x)\n",
    "    return x  \n",
    "    \n",
    "  "
   ]
  },
  {
   "cell_type": "markdown",
   "metadata": {
    "colab_type": "text",
    "id": "eFXjlAqrEzBx"
   },
   "source": [
    "# Train the network\n",
    "\n",
    "Now you should create your network and train it. First you'll want to define [the criterion](http://pytorch.org/docs/master/nn.html#loss-functions) ( something like `nn.CrossEntropyLoss`) and [the optimizer](http://pytorch.org/docs/master/optim.html) (typically `optim.SGD` or `optim.Adam`).\n",
    "\n",
    "Then write the training code. Remember the training pass is a fairly straightforward process:\n",
    "\n",
    "* Make a forward pass through the network to get the logits \n",
    "* Use the logits to calculate the loss\n",
    "* Perform a backward pass through the network with `loss.backward()` to calculate the gradients\n",
    "* Take a step with the optimizer to update the weights\n",
    "\n",
    "By adjusting the hyperparameters (hidden units, learning rate, etc), you should be able to get the training loss below 0.4."
   ]
  },
  {
   "cell_type": "code",
   "execution_count": 32,
   "metadata": {
    "colab": {},
    "colab_type": "code",
    "id": "PVqPkWoTEzBz"
   },
   "outputs": [],
   "source": [
    "# TODO: Create the network, define the criterion and optimizer\n",
    "from torch import optim\n",
    "\n",
    "model = Model()\n",
    "criterion = nn.NLLLoss()\n",
    "optimizer = optim.SGD(model.parameters(), lr=0.003)"
   ]
  },
  {
   "cell_type": "code",
   "execution_count": 33,
   "metadata": {
    "colab": {
     "base_uri": "https://localhost:8080/",
     "height": 190
    },
    "colab_type": "code",
    "executionInfo": {
     "elapsed": 114735,
     "status": "ok",
     "timestamp": 1544730177930,
     "user": {
      "displayName": "Hameed Abdul",
      "photoUrl": "https://lh6.googleusercontent.com/-F-fJphVGhX4/AAAAAAAAAAI/AAAAAAAAJ6I/fF-MIuvKULQ/s64/photo.jpg",
      "userId": "04582417005496206861"
     },
     "user_tz": 360
    },
    "id": "NrdOe44REzB3",
    "outputId": "20c74314-f5ce-4dba-ec82-2e741381850a"
   },
   "outputs": [
    {
     "name": "stdout",
     "output_type": "stream",
     "text": [
      "0. Training loss: 1.5922985485494772\n",
      "1. Training loss: 0.7960252431727676\n",
      "2. Training loss: 0.6577873779321785\n",
      "3. Training loss: 0.5991849218413774\n",
      "4. Training loss: 0.5597789083271901\n",
      "5. Training loss: 0.5307022924743482\n",
      "6. Training loss: 0.5082850079578377\n",
      "7. Training loss: 0.49075580000686747\n",
      "8. Training loss: 0.476440525147071\n",
      "9. Training loss: 0.46456469064836564\n"
     ]
    }
   ],
   "source": [
    "# # TODO: Train the network here\n",
    "\n",
    "# for num of epochs\n",
    "# clear out gradients\n",
    "# feed forward\n",
    "# calculate loss\n",
    "# back prop\n",
    "# optimizer step\n",
    "\n",
    "epochs = 10\n",
    "\n",
    "for e in range(epochs):\n",
    "  running_loss = 0\n",
    "\n",
    "  for images, labels in trainloader:\n",
    "        \n",
    "        # Flatten MNIST images into a 784 long vector\n",
    "        images = images.view(images.shape[0], -1)\n",
    "    \n",
    "        optimizer.zero_grad() # clear out gradients\n",
    "  \n",
    "        output = model(images) # feed forward\n",
    "    \n",
    "        loss = criterion(output, labels) # calculate loss\n",
    "      \n",
    "        loss.backward() # back prop\n",
    "        \n",
    "        optimizer.step() # step the optimizer towards optimal gradient\n",
    "    \n",
    "        running_loss += loss.item()\n",
    "  else:\n",
    "      print(f\"{e}. Training loss: {running_loss/len(trainloader)}\")"
   ]
  },
  {
   "cell_type": "code",
   "execution_count": 58,
   "metadata": {
    "colab": {
     "base_uri": "https://localhost:8080/",
     "height": 253
    },
    "colab_type": "code",
    "executionInfo": {
     "elapsed": 114993,
     "status": "error",
     "timestamp": 1544730178211,
     "user": {
      "displayName": "Hameed Abdul",
      "photoUrl": "https://lh6.googleusercontent.com/-F-fJphVGhX4/AAAAAAAAAAI/AAAAAAAAJ6I/fF-MIuvKULQ/s64/photo.jpg",
      "userId": "04582417005496206861"
     },
     "user_tz": 360
    },
    "id": "s00iEMcMEzB-",
    "outputId": "54fbbbe3-631d-4325-af80-2a9a1eea7caf"
   },
   "outputs": [
    {
     "name": "stdout",
     "output_type": "stream",
     "text": [
      "Predicted with 0.63508 probability\n"
     ]
    },
    {
     "data": {
      "image/png": "[encoded data removed]",
      "text/plain": [
       "<Figure size 432x648 with 2 Axes>"
      ]
     },
     "metadata": {
      "image/png": {
       "height": 206,
       "width": 423
      },
      "needs_background": "light"
     },
     "output_type": "display_data"
    }
   ],
   "source": [
    "%matplotlib inline\n",
    "%config InlineBackend.figure_format = 'retina'\n",
    "\n",
    "import helper\n",
    "\n",
    "# Test out your network!\n",
    "dataiter = iter(testloader)\n",
    "images, labels = dataiter.next()\n",
    "img = images[0]\n",
    "\n",
    "img = img.resize_(1, 784)\n",
    "\n",
    "# TODO: Calculate the class probabilities (softmax) for img\n",
    "ps = torch.exp(model(img))\n",
    "\n",
    "# Plot the image and probabilities\n",
    "helper.view_classify(img.resize_(1, 28, 28), ps, version='Fashion')\n",
    "print(f\"Predicted with {ps.max():.5} probability\")"
   ]
  }
 ],
 "metadata": {
  "accelerator": "GPU",
  "colab": {
   "collapsed_sections": [],
   "name": "Part 4 - Fashion-MNIST (Exercises).ipynb",
   "provenance": [],
   "version": "0.3.2"
  },
  "kernelspec": {
   "display_name": "Python 3",
   "language": "python",
   "name": "python3"
  },
  "language_info": {
   "codemirror_mode": {
    "name": "ipython",
    "version": 3
   },
   "file_extension": ".py",
   "mimetype": "text/x-python",
   "name": "python",
   "nbconvert_exporter": "python",
   "pygments_lexer": "ipython3",
   "version": "3.6.2"
  }
 },
 "nbformat": 4,
 "nbformat_minor": 2
}
