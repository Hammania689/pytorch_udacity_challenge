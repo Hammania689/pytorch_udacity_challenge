{
 "cells": [
  {
   "cell_type": "markdown",
   "metadata": {},
   "source": [
    "# Developing an AI application\n",
    "\n",
    "Going forward, AI algorithms will be incorporated into more and more everyday applications. For example, you might want to include an image classifier in a smart phone app. To do this, you'd use a deep learning model trained on hundreds of thousands of images as part of the overall application architecture. A large part of software development in the future will be using these types of models as common parts of applications. \n",
    "\n",
    "In this project, you'll train an image classifier to recognize different species of flowers. You can imagine using something like this in a phone app that tells you the name of the flower your camera is looking at. In practice you'd train this classifier, then export it for use in your application. We'll be using [this dataset](http://www.robots.ox.ac.uk/~vgg/data/flowers/102/index.html) of 102 flower categories, you can see a few examples below. \n",
    "\n",
    "<img src='assets/Flowers.png' width=500px>\n",
    "\n",
    "The project is broken down into multiple steps:\n",
    "\n",
    "* Load and preprocess the image dataset\n",
    "* Train the image classifier on your dataset\n",
    "* Use the trained classifier to predict image content\n",
    "\n",
    "We'll lead you through each part which you'll implement in Python.\n",
    "\n",
    "When you've completed this project, you'll have an application that can be trained on any set of labeled images. Here your network will be learning about flowers and end up as a command line application. But, what you do with your new skills depends on your imagination and effort in building a dataset. For example, imagine an app where you take a picture of a car, it tells you what the make and model is, then looks up information about it. Go build your own dataset and make something new.\n",
    "\n",
    "First up is importing the packages you'll need. It's good practice to keep all the imports at the beginning of your code. As you work through this notebook and find you need to import a package, make sure to add the import up here."
   ]
  },
  {
   "cell_type": "code",
   "execution_count": null,
   "metadata": {},
   "outputs": [],
   "source": [
    "# Imports here\n",
    "%matplotlib inline\n",
    "import torch\n",
    "import torchvision\n",
    "import matplotlib\n",
    "import numpy as np\n",
    "import matplotlib.pyplot as plt\n",
    "import helper\n",
    "import pandas as pd\n",
    "\n",
    "from torch import nn, optim\n",
    "from torchvision import datasets, transforms\n",
    "from pathlib import Path"
   ]
  },
  {
   "cell_type": "markdown",
   "metadata": {},
   "source": [
    "## Load the data\n",
    "\n",
    "Here you'll use `torchvision` to load the data ([documentation](http://pytorch.org/docs/0.3.0/torchvision/index.html)). You can [download the data here](https://s3.amazonaws.com/content.udacity-data.com/courses/nd188/flower_data.zip). The dataset is split into two parts, training and validation. For the training, you'll want to apply transformations such as random scaling, cropping, and flipping. This will help the network generalize leading to better performance. If you use a pre-trained network, you'll also need to make sure the input data is resized to 224x224 pixels as required by the networks.\n",
    "\n",
    "The validation set is used to measure the model's performance on data it hasn't seen yet. For this you don't want any scaling or rotation transformations, but you'll need to resize then crop the images to the appropriate size.\n",
    "\n",
    "The pre-trained networks available from `torchvision` were trained on the ImageNet dataset where each color channel was normalized separately. For both sets you'll need to normalize the means and standard deviations of the images to what the network expects. For the means, it's `[0.485, 0.456, 0.406]` and for the standard deviations `[0.229, 0.224, 0.225]`, calculated from the ImageNet images.  These values will shift each color channel to be centered at 0 and range from -1 to 1."
   ]
  },
  {
   "cell_type": "code",
   "execution_count": null,
   "metadata": {},
   "outputs": [],
   "source": [
    "data_dir = '/home/hameed/data/flower_data'\n",
    "train_dir = data_dir + '/train'\n",
    "test_dir = data_dir + '/valid'\n",
    "\n",
    "# TODO: Define your transforms for the training and validation sets\n",
    "data_transforms = transforms.Compose([transforms.Resize(225),\n",
    "                                     transforms.CenterCrop(224),\n",
    "                                     transforms.RandomRotation(30),\n",
    "                                     transforms.RandomHorizontalFlip(),\n",
    "                                     transforms.RandomVerticalFlip(p=.3),\n",
    "                                     transforms.ToTensor()])\n",
    "\n",
    "if Path.exists(Path(data_dir)):\n",
    "    # TODO: Load the datasets with ImageFolder\n",
    "    train_data = torchvision.datasets.ImageFolder(train_dir, transform=data_transforms)\n",
    "    test_data = torchvision.datasets.ImageFolder(test_dir, transform=data_transforms)\n",
    "    \n",
    "    # TODO: Using the image datasets and the trainforms, define the dataloaders\n",
    "    trainloader = torch.utils.data.DataLoader(train_data, batch_size=32, shuffle=True)\n",
    "    testloader = torch.utils.data.DataLoader(test_data, batch_size=32, shuffle=True)\n",
    "    print(f\"Loaded data from {trainloader.dataset.root} and {testloader.dataset.root} \")\n",
    "else:\n",
    "    print(f\"{data_dir} is a faulty path\")"
   ]
  },
  {
   "cell_type": "markdown",
   "metadata": {},
   "source": [
    "### Label mapping\n",
    "\n",
    "You'll also need to load in a mapping from category label to category name. You can find this in the file `cat_to_name.json`. It's a JSON object which you can read in with the [`json` module](https://docs.python.org/2/library/json.html). This will give you a dictionary mapping the integer encoded categories to the actual names of the flowers."
   ]
  },
  {
   "cell_type": "code",
   "execution_count": null,
   "metadata": {},
   "outputs": [],
   "source": [
    "import json\n",
    "\n",
    "with open('cat_to_name.json', 'r') as f:\n",
    "    cat_to_name = json.load(f)\n",
    "\n",
    "# Grab images and labels from trainloader\n",
    "images, labels = next(iter(trainloader)) \n",
    "\n",
    "# labels returns the value - which is just index of the key class in the dictionary\n",
    "# Use the value index to get key value then search cat_to_name\n",
    "helper.imshow(images[0], title=labels[0], normalize=False)\n",
    "\n",
    "# Grab classmap from trainload\n",
    "# Find the key, based on value - which is just key index \n",
    "# The key from the class map is used in cat_to_name to get the correct corresponding name  for each flower\n",
    "class_map = trainloader.dataset.class_to_idx \n",
    "index = [* class_map][labels[0].item()]\n",
    "cat_to_name[index]"
   ]
  },
  {
   "cell_type": "markdown",
   "metadata": {},
   "source": [
    "# Visualize Data\n"
   ]
  },
  {
   "cell_type": "markdown",
   "metadata": {},
   "source": [
    "# Building and training the classifier\n",
    "\n",
    "Now that the data is ready, it's time to build and train the classifier. As usual, you should use one of the pretrained models from `torchvision.models` to get the image features. Build and train a new feed-forward classifier using those features.\n",
    "\n",
    "We're going to leave this part up to you. If you want to talk through it with someone, chat with your fellow students! You can also ask questions on the forums or join the instructors in office hours.\n",
    "\n",
    "Refer to [the rubric](https://review.udacity.com/#!/rubrics/1663/view) for guidance on successfully completing this section. Things you'll need to do:\n",
    "\n",
    "* Load a [pre-trained network](http://pytorch.org/docs/master/torchvision/models.html) (If you need a starting point, the VGG networks work great and are straightforward to use)\n",
    "* Define a new, untrained feed-forward network as a classifier, using ReLU activations and dropout\n",
    "* Train the classifier layers using backpropagation using the pre-trained network to get the features\n",
    "* Track the loss and accuracy on the validation set to determine the best hyperparameters\n",
    "\n",
    "We've left a cell open for you below, but use as many as you need. Our advice is to break the problem up into smaller parts you can run separately. Check that each part is doing what you expect, then move on to the next. You'll likely find that as you work through each part, you'll need to go back and modify your previous code. This is totally normal!\n",
    "\n",
    "When training make sure you're updating only the weights of the feed-forward network. You should be able to get the validation accuracy above 70% if you build everything right. Make sure to try different hyperparameters (learning rate, units in the classifier, epochs, etc) to find the best model. Save those hyperparameters to use as default values in the next part of the project."
   ]
  },
  {
   "cell_type": "code",
   "execution_count": null,
   "metadata": {},
   "outputs": [],
   "source": [
    "# Let's try ResNet-152 \n",
    "device = torch.device(\"cuda:0\" if torch.cuda.is_available() else \"cpu\")\n",
    "res152 = torchvision.models.resnet152(pretrained=True)\n",
    "res152.name = \"ResNet 152\"\n",
    "print(res152.fc.parameters)\n",
    "print(res152.name)\n",
    "\n",
    "train_on_gpu = torch.cuda.is_available()\n",
    "\n",
    "if train_on_gpu:\n",
    "    print(f\"Moving model to gpu {device}\")\n",
    "    torch.set_default_tensor_type('torch.cuda.FloatTensor')\n",
    "    res152.cuda(device)\n",
    "else:\n",
    "    print(\"Your model is on the cpu\")"
   ]
  },
  {
   "cell_type": "code",
   "execution_count": null,
   "metadata": {},
   "outputs": [],
   "source": [
    "# TODO: Build and train your network\n",
    "\n",
    "\n",
    "# print(optimizer.param_groups[0]['lr'])\n",
    "\n",
    "# Freeze learned parameters on each layer\n",
    "for params in res152.parameters():\n",
    "    params.requires_grad = False\n",
    "\n",
    "# Change the last layer according to our needs\n",
    "from collections import OrderedDict\n",
    "res152.fc = nn.Sequential(OrderedDict([\n",
    "        ('fc1', nn.Linear(2048, 1000, bias=True)),\n",
    "        ('fc1_relu', nn.ReLU()),\n",
    "        ('dropout1', nn.Dropout(p=.30)),\n",
    "        ('fc2', nn.Linear(1000, 512, bias=True)),\n",
    "        ('fc2_relu', nn.ReLU()),\n",
    "        ('dropout2', nn.Dropout(p=.30)),\n",
    "        ('fc3', nn.Linear(512, 256, bias=True)),\n",
    "        ('fc3_relu', nn.ReLU()),\n",
    "        ('dropout3', nn.Dropout(p=.30)),\n",
    "        ('fc4', nn.Linear(256, 102, bias=True))\n",
    "     ]))\n",
    "\n",
    "# model_params, param_log"
   ]
  },
  {
   "cell_type": "code",
   "execution_count": null,
   "metadata": {},
   "outputs": [],
   "source": [
    "# model2Dict = [print(idx) for idx in np.nditer(model_params,  flags=[\"refs_ok\",\"c_index\"])]\n",
    "# model2Dict = [{ param_log.columns[x] : model_params[x]}  for x in range(len( model_params))]\n",
    "# model2Dict\n",
    "param_log"
   ]
  },
  {
   "cell_type": "code",
   "execution_count": null,
   "metadata": {},
   "outputs": [],
   "source": [
    "len(param_log)"
   ]
  },
  {
   "cell_type": "code",
   "execution_count": null,
   "metadata": {},
   "outputs": [],
   "source": [
    "def log_params(data, file_path='paramLog.xlsx', columns=['accuracy', 'training_loss', 'testing_loss', 'base_model','added_arc', 'epochs' , 'optimizer', 'init_lr' ]):\n",
    "    \"\"\"\n",
    "    Use to save hyper parameters in Excel for future reference\n",
    "    \n",
    "    data: Hyper parameter Infomation for future reference and comparison\n",
    "    file_path: desired path to save Excel file\n",
    "        By default saves to 'paramLog.xlsx' in current directory\n",
    "        \n",
    "    columns: reference labels for records in the Excel file  \n",
    "        By default ['accuracy', 'training_loss', 'testing_loss', 'base_model','added_arc', 'epochs' , 'optimizer', 'init_lr' ]\n",
    "    \"\"\"\n",
    "    writer = pd.ExcelWriter(file_path)\n",
    "    \n",
    "    # Create dataframe if spreadsheet doesn't exist \n",
    "    if Path.exists(Path(file_path)) == False:\n",
    "        param_log = pd.DataFrame(columns)\n",
    "    else: \n",
    "        # Otherwise load the existing data\n",
    "        param_log = pd.read_excel(file_path)\n",
    "    \n",
    "    # Add new row to the end of existing entries and save new entries\n",
    "    param_log.loc[len(param_log)] = data \n",
    "    writer.save()\n",
    "    \n",
    "    if Path.exists(Path(file_path)): \n",
    "        print(f\"Hyper Parameters have been written to {file_path}\")"
   ]
  },
  {
   "cell_type": "code",
   "execution_count": null,
   "metadata": {},
   "outputs": [],
   "source": [
    "# param_log = pd.DataFrame(columns=['accuracy', 'training_loss', 'testing_loss', 'base_model','added_arc', 'epochs' , 'optimizer', 'init_lr' ])\n",
    "# writer = pd.ExcelWriter('paramLog.xlsx')\n",
    "# model2Dict = [{ param_log.columns[x] : model_params[x]}  for x in range(len(model_params))]\n",
    "\n",
    "# Hyper Parameters\n",
    "epochs = 30 \n",
    "criterion = nn.NLLLoss()\n",
    "optimizer = optim.Adam(res152.fc.parameters(), lr=0.01)\n",
    "\n",
    "\n",
    "for e in range(epochs):\n",
    "    train_losses, test_losses = np.array([]), np.array([])\n",
    "    running_loss = 0\n",
    "    \n",
    "    #### TRAIN ####\n",
    "    res152.train() # set to training\n",
    "    for images,labels in trainloader:\n",
    "    \n",
    "        if train_on_gpu:\n",
    "            images, labels = images.cuda(device), labels.cuda(device) # send to gpu if available\n",
    "    \n",
    "        optimizer.zero_grad() # clear out gradients\n",
    "        log_ps = res152(images) # forward pass\n",
    "        loss = criterion(log_ps, labels) # calculate loss\n",
    "        loss.backward() # backprop and optimize\n",
    "        optimizer.step() # step through the optimizer\n",
    "        running_loss += loss.item()\n",
    "\n",
    "    \n",
    "    #### TEST ####\n",
    "    \n",
    "    # Stop gradient calculations\n",
    "    with torch.autograd.no_grad():\n",
    "        \n",
    "        # Set model to evaluation mode\n",
    "        res152.eval()\n",
    "        test_loss = 0\n",
    "        accuracy = 0\n",
    "        \n",
    "        for images, labels in testloader:\n",
    "            if train_on_gpu:\n",
    "                images, labels = images.cuda(device), labels.cuda(device) # send data to gpu if available\n",
    "\n",
    "            optimizer.zero_grad() # clear out gradients\n",
    "            log_ps = res152(images) # forward pass\n",
    "            ts_loss = criterion(log_ps, labels) # calculate loss\n",
    "            \n",
    "            # if the test loss has decreased then save the current model as checkpoint\n",
    "            \n",
    "            \n",
    "            # Get the Accuracy metric\n",
    "            ps = torch.exp(log_ps)\n",
    "            top_ps, top_class = ps.topk(1, dim=1)\n",
    "            equals = top_class == labels.view(*top_ps.shape)\n",
    "            \n",
    "            accuracy += torch.mean(equals.type(torch.cuda.FloatTensor))\n",
    "            \n",
    "        test_loss = np.append(test_losses, test_loss / len(testloader))\n",
    "        train_loss = np.append(train_losses, running_loss / len(testloader))\n",
    "        \n",
    "    print(f\"{'=' * 100}\",\n",
    "          f\"\\nEpoch: {e+1}/{epochs} \\t Training Loss: {running_loss/len(trainloader):.3}  |\",\n",
    "          f\"Test Loss: {ts_loss/len(testloader):.3}  |\",\n",
    "          f\"Test Accuracy: {accuracy/len(testloader):.3}\\n\")\n",
    "    \n",
    "    # @TODO\n",
    "    # Log to excell\n",
    "    # Do exhuastive testing\n",
    "    # Check for improved TEst Accuarcy \n",
    "    \n",
    "    new_list = [str(layer) for layer in res152.fc]\n",
    "    \n",
    "    # ADD TRAIN, TEST DATA HERE TO BE LOGGED\n",
    "    model_params = np.array([res152.name, new_list, epochs, re.split(' ', str(optimizer), maxsplit=1)[0], optimizer.param_groups[0]['lr']], dtype=object)\n",
    "    param_log.loc[len(param_log)] = model_params"
   ]
  },
  {
   "cell_type": "markdown",
   "metadata": {},
   "source": [
    "## Save the checkpoint\n",
    "\n",
    "Now that your network is trained, save the model so you can load it later for making predictions. You probably want to save other things such as the mapping of classes to indices which you get from one of the image datasets: `image_datasets['train'].class_to_idx`. You can attach this to the model as an attribute which makes inference easier later on.\n",
    "\n",
    "```model.class_to_idx = image_datasets['train'].class_to_idx```\n",
    "\n",
    "Remember that you'll want to completely rebuild the model later so you can use it for inference. Make sure to include any information you need in the checkpoint. If you want to load the model and keep training, you'll want to save the number of epochs as well as the optimizer state, `optimizer.state_dict`. You'll likely want to use this trained model in the next part of the project, so best to save it now."
   ]
  },
  {
   "cell_type": "code",
   "execution_count": null,
   "metadata": {},
   "outputs": [],
   "source": [
    "# TODO: Save the checkpoint "
   ]
  },
  {
   "cell_type": "markdown",
   "metadata": {},
   "source": [
    "## Loading the checkpoint\n",
    "\n",
    "At this point it's good to write a function that can load a checkpoint and rebuild the model. That way you can come back to this project and keep working on it without having to retrain the network."
   ]
  },
  {
   "cell_type": "code",
   "execution_count": null,
   "metadata": {},
   "outputs": [],
   "source": [
    "# TODO: Write a function that loads a checkpoint and rebuilds the model"
   ]
  },
  {
   "cell_type": "markdown",
   "metadata": {},
   "source": [
    "# Inference for classification\n",
    "\n",
    "Now you'll write a function to use a trained network for inference. That is, you'll pass an image into the network and predict the class of the flower in the image. Write a function called `predict` that takes an image and a model, then returns the top $K$ most likely classes along with the probabilities. It should look like \n",
    "\n",
    "```python\n",
    "probs, classes = predict(image_path, model)\n",
    "print(probs)\n",
    "print(classes)\n",
    "> [ 0.01558163  0.01541934  0.01452626  0.01443549  0.01407339]\n",
    "> ['70', '3', '45', '62', '55']\n",
    "```\n",
    "\n",
    "First you'll need to handle processing the input image such that it can be used in your network. \n",
    "\n",
    "## Image Preprocessing\n",
    "\n",
    "You'll want to use `PIL` to load the image ([documentation](https://pillow.readthedocs.io/en/latest/reference/Image.html)). It's best to write a function that preprocesses the image so it can be used as input for the model. This function should process the images in the same manner used for training. \n",
    "\n",
    "First, resize the images where the shortest side is 256 pixels, keeping the aspect ratio. This can be done with the [`thumbnail`](http://pillow.readthedocs.io/en/3.1.x/reference/Image.html#PIL.Image.Image.thumbnail) or [`resize`](http://pillow.readthedocs.io/en/3.1.x/reference/Image.html#PIL.Image.Image.thumbnail) methods. Then you'll need to crop out the center 224x224 portion of the image.\n",
    "\n",
    "Color channels of images are typically encoded as integers 0-255, but the model expected floats 0-1. You'll need to convert the values. It's easiest with a Numpy array, which you can get from a PIL image like so `np_image = np.array(pil_image)`.\n",
    "\n",
    "As before, the network expects the images to be normalized in a specific way. For the means, it's `[0.485, 0.456, 0.406]` and for the standard deviations `[0.229, 0.224, 0.225]`. You'll want to subtract the means from each color channel, then divide by the standard deviation. \n",
    "\n",
    "And finally, PyTorch expects the color channel to be the first dimension but it's the third dimension in the PIL image and Numpy array. You can reorder dimensions using [`ndarray.transpose`](https://docs.scipy.org/doc/numpy-1.13.0/reference/generated/numpy.ndarray.transpose.html). The color channel needs to be first and retain the order of the other two dimensions."
   ]
  },
  {
   "cell_type": "code",
   "execution_count": null,
   "metadata": {},
   "outputs": [],
   "source": [
    "def process_image(image):\n",
    "    ''' Scales, crops, and normalizes a PIL image for a PyTorch model,\n",
    "        returns an Numpy array\n",
    "    '''\n",
    "    \n",
    "    # TODO: Process a PIL image for use in a PyTorch model"
   ]
  },
  {
   "cell_type": "markdown",
   "metadata": {},
   "source": [
    "To check your work, the function below converts a PyTorch tensor and displays it in the notebook. If your `process_image` function works, running the output through this function should return the original image (except for the cropped out portions)."
   ]
  },
  {
   "cell_type": "code",
   "execution_count": null,
   "metadata": {},
   "outputs": [],
   "source": [
    "def imshow(image, ax=None, title=None):\n",
    "    \"\"\"Imshow for Tensor.\"\"\"\n",
    "    if ax is None:\n",
    "        fig, ax = plt.subplots()\n",
    "    \n",
    "    # PyTorch tensors assume the color channel is the first dimension\n",
    "    # but matplotlib assumes is the third dimension\n",
    "    image = image.numpy().transpose((1, 2, 0))\n",
    "    \n",
    "    # Undo preprocessing\n",
    "    mean = np.array([0.485, 0.456, 0.406])\n",
    "    std = np.array([0.229, 0.224, 0.225])\n",
    "    image = std * image + mean\n",
    "    \n",
    "    # Image needs to be clipped between 0 and 1 or it looks like noise when displayed\n",
    "    image = np.clip(image, 0, 1)\n",
    "    \n",
    "    ax.imshow(image)\n",
    "    \n",
    "    return ax"
   ]
  },
  {
   "cell_type": "markdown",
   "metadata": {},
   "source": [
    "## Class Prediction\n",
    "\n",
    "Once you can get images in the correct format, it's time to write a function for making predictions with your model. A common practice is to predict the top 5 or so (usually called top-$K$) most probable classes. You'll want to calculate the class probabilities then find the $K$ largest values.\n",
    "\n",
    "To get the top $K$ largest values in a tensor use [`x.topk(k)`](http://pytorch.org/docs/master/torch.html#torch.topk). This method returns both the highest `k` probabilities and the indices of those probabilities corresponding to the classes. You need to convert from these indices to the actual class labels using `class_to_idx` which hopefully you added to the model or from an `ImageFolder` you used to load the data ([see here](#Save-the-checkpoint)). Make sure to invert the dictionary so you get a mapping from index to class as well.\n",
    "\n",
    "Again, this method should take a path to an image and a model checkpoint, then return the probabilities and classes.\n",
    "\n",
    "```python\n",
    "probs, classes = predict(image_path, model)\n",
    "print(probs)\n",
    "print(classes)\n",
    "> [ 0.01558163  0.01541934  0.01452626  0.01443549  0.01407339]\n",
    "> ['70', '3', '45', '62', '55']\n",
    "```"
   ]
  },
  {
   "cell_type": "code",
   "execution_count": null,
   "metadata": {},
   "outputs": [],
   "source": [
    "def predict(image_path, model, topk=5):\n",
    "    ''' Predict the class (or classes) of an image using a trained deep learning model.\n",
    "    '''\n",
    "    \n",
    "    # TODO: Implement the code to predict the class from an image file"
   ]
  },
  {
   "cell_type": "markdown",
   "metadata": {},
   "source": [
    "## Sanity Checking\n",
    "\n",
    "Now that you can use a trained model for predictions, check to make sure it makes sense. Even if the validation accuracy is high, it's always good to check that there aren't obvious bugs. Use `matplotlib` to plot the probabilities for the top 5 classes as a bar graph, along with the input image. It should look like this:\n",
    "\n",
    "<img src='assets/inference_example.png' width=300px>\n",
    "\n",
    "You can convert from the class integer encoding to actual flower names with the `cat_to_name.json` file (should have been loaded earlier in the notebook). To show a PyTorch tensor as an image, use the `imshow` function defined above."
   ]
  },
  {
   "cell_type": "code",
   "execution_count": null,
   "metadata": {},
   "outputs": [],
   "source": [
    "# TODO: Display an image along with the top 5 classes"
   ]
  }
 ],
 "metadata": {
  "kernelspec": {
   "display_name": "Python 3",
   "language": "python",
   "name": "python3"
  },
  "language_info": {
   "codemirror_mode": {
    "name": "ipython",
    "version": 3
   },
   "file_extension": ".py",
   "mimetype": "text/x-python",
   "name": "python",
   "nbconvert_exporter": "python",
   "pygments_lexer": "ipython3",
   "version": "3.6.2"
  }
 },
 "nbformat": 4,
 "nbformat_minor": 2
}
