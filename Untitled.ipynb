{
 "cells": [
  {
   "cell_type": "code",
   "execution_count": 119,
   "metadata": {},
   "outputs": [
    {
     "name": "stdout",
     "output_type": "stream",
     "text": [
      "Starting Savings: $27000.00\n",
      "============================================================ \n",
      "Growth $724.25\n",
      "Total Intrest $724.25\n",
      "\n",
      "Starting Savings: $7000.00\n",
      "============================================================ \n",
      "Growth $1358.26\n",
      "Total Intrest $158.26\n",
      "\n",
      "Starting Savings: $34000.00\n",
      "============================================================ \n",
      "Growth $1917.00\n",
      "Total Intrest $717.00\n",
      "\n"
     ]
    },
    {
     "data": {
      "text/plain": [
       "(2082.519466711734, 1916.9951557806053)"
      ]
     },
     "execution_count": 119,
     "metadata": {},
     "output_type": "execute_result"
    }
   ],
   "source": [
    "def expected_growth(x, period, rate, contrib, Display=False):\n",
    "    print(f\"Starting Savings: ${x:.2f}\")\n",
    "    if Display:\n",
    "        print(f\"Monthly Intrest \\t| Savings\")\n",
    "        print(\"==\" * 30)\n",
    "    x_init = x\n",
    "    total_int = 0\n",
    "    for i in range(period):\n",
    "        x = x + contrib\n",
    "\n",
    "        monthly_intrest = (x * rate) / 12\n",
    "        x += monthly_intrest \n",
    "        total_int += monthly_intrest\n",
    "        if Display:\n",
    "            print(f\"${monthly_intrest:.2f}     \\t\\t| ${x:.2f}\")\n",
    "\n",
    "    print(f\"==\" * 30,f\"\\nGrowth ${x - x_init:.2f}\")\n",
    "    print(f\"Total Intrest ${total_int:.2f}\\n\")\n",
    "    return x - x_init\n",
    "\n",
    "\n",
    "# calculate apy for savings for CD\n",
    "x = 27000 # base\n",
    "total = 34000\n",
    "period = 12 \n",
    "rate = .0265\n",
    "s_rate = 0.0205\n",
    "m_contrib = 100  # montly contrib\n",
    "\n",
    "cdAndSave = expected_growth(x, period, rate, contrib=0) + expected_growth((total - x), period, s_rate, m_contrib)\n",
    "justSave = expected_growth(total, period, s_rate, m_contrib)\n",
    "\n",
    "cdAndSave, justSave"
   ]
  }
 ],
 "metadata": {
  "kernelspec": {
   "display_name": "Python 3",
   "language": "python",
   "name": "python3"
  },
  "language_info": {
   "codemirror_mode": {
    "name": "ipython",
    "version": 3
   },
   "file_extension": ".py",
   "mimetype": "text/x-python",
   "name": "python",
   "nbconvert_exporter": "python",
   "pygments_lexer": "ipython3",
   "version": "3.6.2"
  }
 },
 "nbformat": 4,
 "nbformat_minor": 2
}
